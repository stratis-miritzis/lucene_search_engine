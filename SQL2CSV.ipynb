{
 "cells": [
  {
   "cell_type": "code",
   "execution_count": 16,
   "id": "85cb44cd",
   "metadata": {},
   "outputs": [],
   "source": [
    "import pandas as pd\n",
    "import sqlite3\n",
    "\n",
    "# Read sqlite query results into a pandas DataFrame\n",
    "con = sqlite3.connect(\"C:/Users/User/Documents/database.sqlite\")\n",
    "# content = pd.read_sql_query(\"SELECT * from content\", con)\n",
    "# labels = pd.read_sql_query(\"SELECT * from labels\", con)\n",
    "# reviews = pd.read_sql_query(\"SELECT * from reviews\", con)\n"
   ]
  },
  {
   "cell_type": "code",
   "execution_count": 19,
   "id": "4a9c23ae",
   "metadata": {},
   "outputs": [],
   "source": [
    "final = content.merge(reviews, left_on='reviewid', right_on='reviewid')\n",
    "final = final.merge(labels, left_on='reviewid', right_on='reviewid')\n"
   ]
  },
  {
   "cell_type": "code",
   "execution_count": 47,
   "id": "db369aa3",
   "metadata": {},
   "outputs": [],
   "source": [
    "final.head(20).to_csv('20_reviews.csv',index=False, encoding='utf-8')\n",
    "final.to_csv('reviews.csv',index=False, encoding='utf-8')\n",
    "\n"
   ]
  },
  {
   "cell_type": "code",
   "execution_count": null,
   "id": "4a2f3502",
   "metadata": {},
   "outputs": [],
   "source": [
    "import pandas as pd\n",
    "import sqlite3\n",
    "\n",
    "# Read sqlite query results into a pandas DataFrame\n",
    "con = sqlite3.connect(\"C:/Users/User/Documents/database.sqlite\")\n",
    "# content = pd.read_sql_query(\"SELECT * from content\", con)\n",
    "# labels = pd.read_sql_query(\"SELECT * from labels\", con)\n",
    "# reviews = pd.read_sql_query(\"SELECT * from reviews\", con)\n",
    "\n",
    "final = content.merge(reviews, left_on='reviewid', right_on='reviewid')\n",
    "final = final.merge(labels, left_on='reviewid', right_on='reviewid')\n",
    "\n",
    "final.head(20).to_csv('20_reviews.csv',index=False, encoding='utf-8')\n",
    "final.to_csv('reviews.csv',index=False, encoding='utf-8')\n",
    "\n"
   ]
  }
 ],
 "metadata": {
  "kernelspec": {
   "display_name": "Python 3 (ipykernel)",
   "language": "python",
   "name": "python3"
  },
  "language_info": {
   "codemirror_mode": {
    "name": "ipython",
    "version": 3
   },
   "file_extension": ".py",
   "mimetype": "text/x-python",
   "name": "python",
   "nbconvert_exporter": "python",
   "pygments_lexer": "ipython3",
   "version": "3.9.12"
  }
 },
 "nbformat": 4,
 "nbformat_minor": 5
}
